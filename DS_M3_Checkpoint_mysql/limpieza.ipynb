{
 "cells": [
  {
   "cell_type": "code",
   "execution_count": 1,
   "metadata": {},
   "outputs": [],
   "source": [
    "import pandas as pd\n",
    "import numpy as np"
   ]
  },
  {
   "cell_type": "code",
   "execution_count": 2,
   "metadata": {},
   "outputs": [],
   "source": [
    "df = pd.read_csv('./tablas_cp/CordobaCentro.csv')"
   ]
  },
  {
   "cell_type": "code",
   "execution_count": 3,
   "metadata": {},
   "outputs": [
    {
     "data": {
      "text/html": [
       "<div>\n",
       "<style scoped>\n",
       "    .dataframe tbody tr th:only-of-type {\n",
       "        vertical-align: middle;\n",
       "    }\n",
       "\n",
       "    .dataframe tbody tr th {\n",
       "        vertical-align: top;\n",
       "    }\n",
       "\n",
       "    .dataframe thead th {\n",
       "        text-align: right;\n",
       "    }\n",
       "</style>\n",
       "<table border=\"1\" class=\"dataframe\">\n",
       "  <thead>\n",
       "    <tr style=\"text-align: right;\">\n",
       "      <th></th>\n",
       "      <th>CodigoEmpleado;IdSucursal;Apellido_y_Nombre;Sucursal;Anio;Mes;Porcentaje</th>\n",
       "    </tr>\n",
       "  </thead>\n",
       "  <tbody>\n",
       "    <tr>\n",
       "      <th>3110;25;Peláez</th>\n",
       "      <td>Jessica;Córdoba Centro;2019;4;18</td>\n",
       "    </tr>\n",
       "    <tr>\n",
       "      <th>3110;25;Peláez</th>\n",
       "      <td>Jessica;Córdoba Centro;2019;8;8</td>\n",
       "    </tr>\n",
       "    <tr>\n",
       "      <th>3110;25;Peláez</th>\n",
       "      <td>Jessica;Córdoba Centro;2019;9;9</td>\n",
       "    </tr>\n",
       "    <tr>\n",
       "      <th>3110;25;Peláez</th>\n",
       "      <td>Jessica;Córdoba Centro;2020;3;15</td>\n",
       "    </tr>\n",
       "    <tr>\n",
       "      <th>3110;25;Peláez</th>\n",
       "      <td>Jessica;Córdoba Centro;2020;4;16</td>\n",
       "    </tr>\n",
       "  </tbody>\n",
       "</table>\n",
       "</div>"
      ],
      "text/plain": [
       "               CodigoEmpleado;IdSucursal;Apellido_y_Nombre;Sucursal;Anio;Mes;Porcentaje\n",
       "3110;25;Peláez                   Jessica;Córdoba Centro;2019;4;18                      \n",
       "3110;25;Peláez                    Jessica;Córdoba Centro;2019;8;8                      \n",
       "3110;25;Peláez                    Jessica;Córdoba Centro;2019;9;9                      \n",
       "3110;25;Peláez                   Jessica;Córdoba Centro;2020;3;15                      \n",
       "3110;25;Peláez                   Jessica;Córdoba Centro;2020;4;16                      "
      ]
     },
     "execution_count": 3,
     "metadata": {},
     "output_type": "execute_result"
    }
   ],
   "source": [
    "df.head()"
   ]
  }
 ],
 "metadata": {
  "kernelspec": {
   "display_name": "Python 3.9.12 ('base')",
   "language": "python",
   "name": "python3"
  },
  "language_info": {
   "codemirror_mode": {
    "name": "ipython",
    "version": 3
   },
   "file_extension": ".py",
   "mimetype": "text/x-python",
   "name": "python",
   "nbconvert_exporter": "python",
   "pygments_lexer": "ipython3",
   "version": "3.9.12"
  },
  "orig_nbformat": 4,
  "vscode": {
   "interpreter": {
    "hash": "c9f04e99f58ad3e8e527e86f3db95f6f41dccd7eee35f4fab2a97d655604e485"
   }
  }
 },
 "nbformat": 4,
 "nbformat_minor": 2
}
